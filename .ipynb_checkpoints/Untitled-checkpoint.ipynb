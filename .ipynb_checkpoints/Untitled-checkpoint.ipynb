{
 "cells": [
  {
   "cell_type": "code",
   "execution_count": 2,
   "metadata": {},
   "outputs": [],
   "source": [
    "import requests, bs4 "
   ]
  },
  {
   "cell_type": "code",
   "execution_count": 3,
   "metadata": {},
   "outputs": [
    {
     "name": "stdout",
     "output_type": "stream",
     "text": [
      "\" \\u0633\\u06cc\\u0646\\u06cc-\\u06a9\\u0627\\u0628\\u0644 \\u2039 https://www.sepcoir.com\"\n",
      "\" \\u0633\\u06cc\\u0646\\u06cc-\\u06a9\\u0627\\u0628\\u0644 \\u2039 www.tavangostarco.com\"\n",
      "\" 74-\\u0633\\u06cc\\u0646\\u06cc-\\u06a9\\u0627\\u0628\\u0644 \\u2039 item \\u2039 \\u0635\\u0646\\u0639\\u062a \\u2039 \\u0645\\u062d\\u0635\\u0648\\u0644\\u0627\\u062a \\u2039 https://parssanaye.com\"\n",
      "\" \\u06a9\\u0627\\u0644\\u0627\\u0647\\u0627 \\u2039 https://eai-co.com\"\n",
      "\" \\u0633\\u06cc\\u0646\\u06cc-\\u06a9\\u0627\\u0628\\u0644-\\u06af\\u0627\\u0644\\u0648\\u0627\\u0646\\u06cc\\u0632\\u0647 \\u2039 https://sinicableparsian.com\"\n",
      "\" ... \\u2039 navasan.ir\"\n",
      "\" cable-ladder-and-tray \\u2039 products \\u2039 https://wpdico.com\"\n",
      "\" \\u0633\\u06cc\\u0646\\u06cc_\\u06a9\\u0627\\u0628\\u0644 \\u2039 wiki \\u2039 https://fa.wikipedia.org\"\n",
      "\" \\u0633\\u06cc\\u0646\\u06cc-\\u06a9\\u0627\\u0628\\u0644-\\u0648-\\u0646\\u0631\\u062f\\u0628\\u0627\\u0646-\\u06a9\\u0627\\u0628\\u0644 \\u2039 https://psanaram.com\"\n",
      "\"\\u06a9\\u0644\\u06cc\\u062f\\u0647\\u0627\\u06cc \\u067e\\u06cc\\u0634\\u0646\\u0647\\u0627\\u062f\\u06cc \\u06af\\u0648\\u06af\\u0644: \\u06a9\\u0627\\u062a\\u0627\\u0644\\u0648\\u06af \\u0633\\u06cc\\u0646\\u06cc \\u06a9\\u0627\\u0628\\u0644\"\n",
      "\"\\u06a9\\u0644\\u06cc\\u062f\\u0647\\u0627\\u06cc \\u067e\\u06cc\\u0634\\u0646\\u0647\\u0627\\u062f\\u06cc \\u06af\\u0648\\u06af\\u0644: \\u0641\\u0631\\u0648\\u0634 \\u0633\\u06cc\\u0646\\u06cc \\u06a9\\u0627\\u0628\\u0644 \\u0644\\u0627\\u0644\\u0647 \\u0632\\u0627\\u0631\"\n",
      "\"\\u06a9\\u0644\\u06cc\\u062f\\u0647\\u0627\\u06cc \\u067e\\u06cc\\u0634\\u0646\\u0647\\u0627\\u062f\\u06cc \\u06af\\u0648\\u06af\\u0644: \\u0642\\u06cc\\u0645\\u062a \\u0628\\u0631\\u0627\\u06a9\\u062a \\u0633\\u06cc\\u0646\\u06cc \\u06a9\\u0627\\u0628\\u0644\"\n",
      "\"\\u06a9\\u0644\\u06cc\\u062f\\u0647\\u0627\\u06cc \\u067e\\u06cc\\u0634\\u0646\\u0647\\u0627\\u062f\\u06cc \\u06af\\u0648\\u06af\\u0644: \\u0645\\u062d\\u0627\\u0633\\u0628\\u0627\\u062a \\u0633\\u06cc\\u0646\\u06cc \\u06a9\\u0627\\u0628\\u0644\"\n",
      "\"\\u06a9\\u0644\\u06cc\\u062f\\u0647\\u0627\\u06cc \\u067e\\u06cc\\u0634\\u0646\\u0647\\u0627\\u062f\\u06cc \\u06af\\u0648\\u06af\\u0644: \\u0642\\u06cc\\u0645\\u062a \\u062f\\u0631\\u067e\\u0648\\u0634 \\u0633\\u06cc\\u0646\\u06cc \\u06a9\\u0627\\u0628\\u0644\"\n",
      "\"\\u06a9\\u0644\\u06cc\\u062f\\u0647\\u0627\\u06cc \\u067e\\u06cc\\u0634\\u0646\\u0647\\u0627\\u062f\\u06cc \\u06af\\u0648\\u06af\\u0644: \\u0633\\u06cc\\u0646\\u06cc \\u06a9\\u0627\\u0628\\u0644 \\u0633\\u067e\\u06a9\\u0648\"\n",
      "\"\\u06a9\\u0644\\u06cc\\u062f\\u0647\\u0627\\u06cc \\u067e\\u06cc\\u0634\\u0646\\u0647\\u0627\\u062f\\u06cc \\u06af\\u0648\\u06af\\u0644: \\u062e\\u0631\\u06cc\\u062f\\u0627\\u0631 \\u0633\\u06cc\\u0646\\u06cc \\u06a9\\u0627\\u0628\\u0644\"\n",
      "\"\\u06a9\\u0644\\u06cc\\u062f\\u0647\\u0627\\u06cc \\u067e\\u06cc\\u0634\\u0646\\u0647\\u0627\\u062f\\u06cc \\u06af\\u0648\\u06af\\u0644: \\u0633\\u06cc\\u0646\\u06cc \\u06a9\\u0627\\u0628\\u0644 \\u0645\\u0634\\u0628\\u06a9\"\n"
     ]
    }
   ],
   "source": [
    "result = requests.get('https://www.google.com/search?hl=fa&q=سینی کابل')\n",
    "soup = bs4.BeautifulSoup(result.text, \"html.parser\")\n",
    "linkElements = soup.select('a')\n",
    "for link in linkElements:\n",
    "    spans = link.findAll('span')\n",
    "#   Ignoring not approperiate links\n",
    "    if len(spans) > 0 and len(spans)<4:\n",
    "        if not spans[0].has_attr('class'):\n",
    "            pre_text = ''\n",
    "            if len(spans[0].findAll('div')) > 0:\n",
    "                pre_text = 'کلیدهای پیشنهادی گوگل:'\n",
    "            print(json.dumps(pre_text+' '+spans[0].text))"
   ]
  },
  {
   "cell_type": "code",
   "execution_count": null,
   "metadata": {},
   "outputs": [],
   "source": []
  }
 ],
 "metadata": {
  "kernelspec": {
   "display_name": "Python 3",
   "language": "python",
   "name": "python3"
  },
  "language_info": {
   "codemirror_mode": {
    "name": "ipython",
    "version": 3
   },
   "file_extension": ".py",
   "mimetype": "text/x-python",
   "name": "python",
   "nbconvert_exporter": "python",
   "pygments_lexer": "ipython3",
   "version": "3.7.3"
  },
  "toc": {
   "base_numbering": 1,
   "nav_menu": {},
   "number_sections": true,
   "sideBar": true,
   "skip_h1_title": false,
   "title_cell": "Table of Contents",
   "title_sidebar": "Contents",
   "toc_cell": false,
   "toc_position": {},
   "toc_section_display": true,
   "toc_window_display": false
  }
 },
 "nbformat": 4,
 "nbformat_minor": 2
}
