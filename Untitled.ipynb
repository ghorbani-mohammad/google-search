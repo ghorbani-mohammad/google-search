{
 "cells": [
  {
   "cell_type": "code",
   "execution_count": null,
   "metadata": {},
   "outputs": [],
   "source": [
    "import requests, bs4 "
   ]
  },
  {
   "cell_type": "code",
   "execution_count": 4,
   "metadata": {},
   "outputs": [
    {
     "name": "stdout",
     "output_type": "stream",
     "text": [
      " سینی-کابل ‹ https://www.sepcoir.com\n",
      " سینی-کابل ‹ www.tavangostarco.com\n",
      " سینی-کابل-گالوانیزه ‹ https://sinicableparsian.com\n",
      " سینی-کابل-و-نردبان-کابل ‹ https://psanaram.com\n",
      " کالاها ‹ https://eai-co.com\n",
      " 74-سینی-کابل ‹ item ‹ صنعت ‹ محصولات ‹ https://parssanaye.com\n",
      " سینی-کابل-گرم-سرد-گالوانیزه ‹ https://kerman-niroo.ir\n",
      " سینی_کابل ‹ wiki ‹ https://fa.wikipedia.org\n",
      " ... ‹ navasan.ir\n",
      "کلیدهای پیشنهادی گوگل: کاتالوگ سینی کابل\n",
      "کلیدهای پیشنهادی گوگل: فروش سینی کابل لاله زار\n",
      "کلیدهای پیشنهادی گوگل: قیمت براکت سینی کابل\n",
      "کلیدهای پیشنهادی گوگل: محاسبات سینی کابل\n",
      "کلیدهای پیشنهادی گوگل: سینی کابل سپکو\n",
      "کلیدهای پیشنهادی گوگل: قیمت درپوش سینی کابل\n",
      "کلیدهای پیشنهادی گوگل: اتصالات سینی کابل برق\n",
      "کلیدهای پیشنهادی گوگل: تولید کننده سینی کابل در مشهد\n"
     ]
    }
   ],
   "source": [
    "result = requests.get('https://www.google.com/search?hl=fa&q=سینی کابل')\n",
    "soup = bs4.BeautifulSoup(result.text, \"html.parser\")\n",
    "linkElements = soup.select('a')\n",
    "for link in linkElements:\n",
    "    spans = link.findAll('span')\n",
    "#   Ignoring not approperiate links\n",
    "    if len(spans) > 0 and len(spans)<4:\n",
    "        if not spans[0].has_attr('class'):\n",
    "            pre_text = ''\n",
    "            if len(spans[0].findAll('div')) > 0:\n",
    "                pre_text = 'کلیدهای پیشنهادی گوگل:'\n",
    "            print(pre_text+' '+spans[0].text)"
   ]
  },
  {
   "cell_type": "code",
   "execution_count": null,
   "metadata": {},
   "outputs": [],
   "source": []
  }
 ],
 "metadata": {
  "kernelspec": {
   "display_name": "Python 3",
   "language": "python",
   "name": "python3"
  },
  "language_info": {
   "codemirror_mode": {
    "name": "ipython",
    "version": 3
   },
   "file_extension": ".py",
   "mimetype": "text/x-python",
   "name": "python",
   "nbconvert_exporter": "python",
   "pygments_lexer": "ipython3",
   "version": "3.7.3"
  },
  "toc": {
   "base_numbering": 1,
   "nav_menu": {},
   "number_sections": true,
   "sideBar": true,
   "skip_h1_title": false,
   "title_cell": "Table of Contents",
   "title_sidebar": "Contents",
   "toc_cell": false,
   "toc_position": {},
   "toc_section_display": true,
   "toc_window_display": false
  }
 },
 "nbformat": 4,
 "nbformat_minor": 2
}
